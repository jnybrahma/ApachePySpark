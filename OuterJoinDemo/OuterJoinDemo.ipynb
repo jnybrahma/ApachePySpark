{
 "cells": [
  {
   "cell_type": "code",
   "execution_count": 10,
   "id": "0caed828",
   "metadata": {},
   "outputs": [],
   "source": [
    "from pyspark.sql import SparkSession\n",
    "from pyspark.sql.functions import expr\n",
    "\n",
    "\n",
    "from lib.logger import Log4J\n",
    "\n",
    "if __name__ == \"__main__\":\n",
    "    spark = SparkSession \\\n",
    "        .builder \\\n",
    "        .appName(\"Outer Join Demo\") \\\n",
    "        .master(\"local[2]\") \\\n",
    "        .getOrCreate()"
   ]
  },
  {
   "cell_type": "code",
   "execution_count": 3,
   "id": "0b242224",
   "metadata": {},
   "outputs": [],
   "source": [
    "logger = Log4J(spark)\n",
    "\n",
    "orders_list = [(\"01\", \"02\", 350, 1),\n",
    "                   (\"01\", \"04\", 580, 1),\n",
    "                   (\"01\", \"07\", 320, 2),\n",
    "                   (\"02\", \"03\", 450, 1),\n",
    "                   (\"02\", \"06\", 220, 1),\n",
    "                   (\"03\", \"01\", 195, 1),\n",
    "                   (\"04\", \"09\", 270, 3),\n",
    "                   (\"04\", \"08\", 410, 2),\n",
    "                   (\"05\", \"02\", 350, 1)]\n"
   ]
  },
  {
   "cell_type": "code",
   "execution_count": 4,
   "id": "86b0332d",
   "metadata": {},
   "outputs": [],
   "source": [
    "order_df = spark.createDataFrame(orders_list).toDF(\"order_id\", \"prod_id\", \"unit_price\", \"qty\")"
   ]
  },
  {
   "cell_type": "code",
   "execution_count": 5,
   "id": "7eaecb18",
   "metadata": {},
   "outputs": [
    {
     "name": "stdout",
     "output_type": "stream",
     "text": [
      "+--------+-------+----------+---+\n",
      "|order_id|prod_id|unit_price|qty|\n",
      "+--------+-------+----------+---+\n",
      "|      01|     02|       350|  1|\n",
      "|      01|     04|       580|  1|\n",
      "|      01|     07|       320|  2|\n",
      "|      02|     03|       450|  1|\n",
      "|      02|     06|       220|  1|\n",
      "|      03|     01|       195|  1|\n",
      "|      04|     09|       270|  3|\n",
      "|      04|     08|       410|  2|\n",
      "|      05|     02|       350|  1|\n",
      "+--------+-------+----------+---+\n",
      "\n"
     ]
    }
   ],
   "source": [
    "order_df.show()"
   ]
  },
  {
   "cell_type": "code",
   "execution_count": 6,
   "id": "0e95e81f",
   "metadata": {},
   "outputs": [],
   "source": [
    "product_list = [(\"01\", \"Scroll Mouse\", 250, 20),\n",
    "                    (\"02\", \"Optical Mouse\", 350, 20),\n",
    "                    (\"03\", \"Wireless Mouse\", 450, 50),\n",
    "                    (\"04\", \"Wireless Keyboard\", 580, 50),\n",
    "                    (\"05\", \"Standard Keyboard\", 360, 10),\n",
    "                    (\"06\", \"16 GB Flash Storage\", 240, 100),\n",
    "                    (\"07\", \"32 GB Flash Storage\", 320, 50),\n",
    "                    (\"08\", \"64 GB Flash Storage\", 430, 25)]\n",
    "\n",
    "product_df = spark.createDataFrame(product_list).toDF(\"prod_id\", \"prod_name\", \"list_price\", \"qty\")"
   ]
  },
  {
   "cell_type": "code",
   "execution_count": 7,
   "id": "c092fd3c",
   "metadata": {},
   "outputs": [
    {
     "name": "stdout",
     "output_type": "stream",
     "text": [
      "+-------+-------------------+----------+---+\n",
      "|prod_id|          prod_name|list_price|qty|\n",
      "+-------+-------------------+----------+---+\n",
      "|     01|       Scroll Mouse|       250| 20|\n",
      "|     02|      Optical Mouse|       350| 20|\n",
      "|     03|     Wireless Mouse|       450| 50|\n",
      "|     04|  Wireless Keyboard|       580| 50|\n",
      "|     05|  Standard Keyboard|       360| 10|\n",
      "|     06|16 GB Flash Storage|       240|100|\n",
      "|     07|32 GB Flash Storage|       320| 50|\n",
      "|     08|64 GB Flash Storage|       430| 25|\n",
      "+-------+-------------------+----------+---+\n",
      "\n"
     ]
    }
   ],
   "source": [
    "product_df.show()\n"
   ]
  },
  {
   "cell_type": "code",
   "execution_count": 8,
   "id": "784bce7b",
   "metadata": {},
   "outputs": [
    {
     "name": "stdout",
     "output_type": "stream",
     "text": [
      "+--------+-------+----------+----+-------------------+----------+-----------+\n",
      "|order_id|prod_id|unit_price| qty|          prod_name|list_price|reorder_qty|\n",
      "+--------+-------+----------+----+-------------------+----------+-----------+\n",
      "|    null|   null|      null|null|  Standard Keyboard|       360|         10|\n",
      "|      01|     02|       350|   1|      Optical Mouse|       350|         20|\n",
      "|      01|     04|       580|   1|  Wireless Keyboard|       580|         50|\n",
      "|      01|     07|       320|   2|32 GB Flash Storage|       320|         50|\n",
      "|      02|     03|       450|   1|     Wireless Mouse|       450|         50|\n",
      "|      02|     06|       220|   1|16 GB Flash Storage|       240|        100|\n",
      "|      03|     01|       195|   1|       Scroll Mouse|       250|         20|\n",
      "|      04|     08|       410|   2|64 GB Flash Storage|       430|         25|\n",
      "|      04|     09|       270|   3|               null|      null|       null|\n",
      "|      05|     02|       350|   1|      Optical Mouse|       350|         20|\n",
      "+--------+-------+----------+----+-------------------+----------+-----------+\n",
      "\n"
     ]
    }
   ],
   "source": [
    "join_expr = order_df.prod_id == product_df.prod_id\n",
    "\n",
    "product_renamed_df = product_df.withColumnRenamed(\"qty\", \"reorder_qty\")\n",
    "\n",
    "order_df.join(product_renamed_df, join_expr, \"outer\") \\\n",
    "        .drop(product_renamed_df.prod_id) \\\n",
    "        .select(\"*\") \\\n",
    "        .sort(\"order_id\") \\\n",
    "        .show()"
   ]
  },
  {
   "cell_type": "code",
   "execution_count": 11,
   "id": "9d1c526e",
   "metadata": {},
   "outputs": [
    {
     "name": "stdout",
     "output_type": "stream",
     "text": [
      "+--------+-------+-------------------+----------+----------+---+\n",
      "|order_id|prod_id|          prod_name|unit_price|list_price|qty|\n",
      "+--------+-------+-------------------+----------+----------+---+\n",
      "|      01|     07|32 GB Flash Storage|       320|       320|  2|\n",
      "|      01|     02|      Optical Mouse|       350|       350|  1|\n",
      "|      01|     04|  Wireless Keyboard|       580|       580|  1|\n",
      "|      02|     03|     Wireless Mouse|       450|       450|  1|\n",
      "|      02|     06|16 GB Flash Storage|       220|       240|  1|\n",
      "|      03|     01|       Scroll Mouse|       195|       250|  1|\n",
      "|      04|     09|                 09|       270|       270|  3|\n",
      "|      04|     08|64 GB Flash Storage|       410|       430|  2|\n",
      "|      05|     02|      Optical Mouse|       350|       350|  1|\n",
      "+--------+-------+-------------------+----------+----------+---+\n",
      "\n"
     ]
    }
   ],
   "source": [
    "order_df.join(product_renamed_df, join_expr, \"left\") \\\n",
    "        .drop(product_renamed_df.prod_id) \\\n",
    "        .select(\"order_id\", \"prod_id\", \"prod_name\", \"unit_price\", \"list_price\",\"qty\") \\\n",
    "        .withColumn(\"prod_name\", expr(\"coalesce(prod_name, prod_id)\")) \\\n",
    "        .withColumn(\"list_price\", expr(\"coalesce(list_price, unit_price)\")) \\\n",
    "        .sort(\"order_id\") \\\n",
    "        .show()\n"
   ]
  }
 ],
 "metadata": {
  "kernelspec": {
   "display_name": "Python 3",
   "language": "python",
   "name": "python3"
  },
  "language_info": {
   "codemirror_mode": {
    "name": "ipython",
    "version": 3
   },
   "file_extension": ".py",
   "mimetype": "text/x-python",
   "name": "python",
   "nbconvert_exporter": "python",
   "pygments_lexer": "ipython3",
   "version": "3.9.13"
  }
 },
 "nbformat": 4,
 "nbformat_minor": 5
}
