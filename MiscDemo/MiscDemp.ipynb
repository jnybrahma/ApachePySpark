{
 "cells": [
  {
   "cell_type": "code",
   "execution_count": 12,
   "id": "0caed828",
   "metadata": {},
   "outputs": [],
   "source": [
    "import re\n",
    "import findspark  \n",
    "findspark.init()\n",
    "from pyspark.sql import *\n",
    "from pyspark.sql.functions import udf, expr\n",
    "from pyspark.sql.types import *\n",
    "## Note: Work well in python 3.9.13 env for better result."
   ]
  },
  {
   "cell_type": "code",
   "execution_count": 9,
   "id": "0b242224",
   "metadata": {},
   "outputs": [],
   "source": [
    "spark = SparkSession.builder  \\\n",
    "            .appName(\"MsicDemo\") \\\n",
    "            .master(\"local[3]\") \\\n",
    "            .getOrCreate()\n"
   ]
  },
  {
   "cell_type": "code",
   "execution_count": 13,
   "id": "86b0332d",
   "metadata": {},
   "outputs": [
    {
     "name": "stdout",
     "output_type": "stream",
     "text": [
      "root\n",
      " |-- name: string (nullable = true)\n",
      " |-- day: string (nullable = true)\n",
      " |-- month: string (nullable = true)\n",
      " |-- year: string (nullable = true)\n",
      "\n"
     ]
    }
   ],
   "source": [
    "data_list=[(\"Ravi\", \"28\",\"1\" , 2002),\n",
    "        (\"Abdul\",\"23\", \"5\", \"81\"), # 1981\n",
    "        (\"John\", \"12\", \"12\", \"6\"), # 2006\n",
    "        (\"Rosy\", \"7\", \"8\", \"63\"),  # 1963\n",
    "        (\"Abdul\", \"23\", \"5\", \"81\")  # 1981\n",
    "        ]\n",
    "\n",
    "raw_df = spark.createDataFrame(data_list).toDF(\"name\", \"day\", \"month\", \"year\").repartition(3)\n",
    "raw_df.printSchema()"
   ]
  },
  {
   "cell_type": "code",
   "execution_count": 14,
   "id": "0e95e81f",
   "metadata": {},
   "outputs": [
    {
     "name": "stdout",
     "output_type": "stream",
     "text": [
      "+-----+---+-----+----+-----------+\n",
      "| name|day|month|year|         id|\n",
      "+-----+---+-----+----+-----------+\n",
      "| Ravi| 28|    1|2002|          0|\n",
      "|Abdul| 23|    5|  81|          1|\n",
      "|Abdul| 23|    5|  81| 8589934592|\n",
      "| John| 12|   12|   6|17179869184|\n",
      "| Rosy|  7|    8|  63|17179869185|\n",
      "+-----+---+-----+----+-----------+\n",
      "\n"
     ]
    }
   ],
   "source": [
    "from pyspark.sql.functions import monotonically_increasing_id\n",
    "\n",
    "\n",
    "df1 = raw_df.withColumn(\"id\", monotonically_increasing_id())\n",
    "df1.show()"
   ]
  },
  {
   "cell_type": "code",
   "execution_count": 19,
   "id": "6ab21004",
   "metadata": {},
   "outputs": [
    {
     "name": "stdout",
     "output_type": "stream",
     "text": [
      "+-----+---+-----+------+-----------+\n",
      "| name|day|month|  year|         id|\n",
      "+-----+---+-----+------+-----------+\n",
      "| Ravi| 28|    1|  2002|          0|\n",
      "|Abdul| 23|    5|1981.0|          1|\n",
      "|Abdul| 23|    5|1981.0| 8589934592|\n",
      "| John| 12|   12|2006.0|17179869184|\n",
      "| Rosy|  7|    8|1963.0|17179869185|\n",
      "+-----+---+-----+------+-----------+\n",
      "\n"
     ]
    }
   ],
   "source": [
    "df2 = df1.withColumn(\"year\", expr(\n",
    "    \"\"\" case when year < 21 then year + 2000\n",
    "        when year < 100 then  year + 1900 else year\n",
    "        end \"\"\"\n",
    "))\n",
    "df2.show()"
   ]
  },
  {
   "cell_type": "code",
   "execution_count": 18,
   "id": "05868220",
   "metadata": {},
   "outputs": [
    {
     "name": "stdout",
     "output_type": "stream",
     "text": [
      "+-----+---+-----+----+-----------+\n",
      "| name|day|month|year|         id|\n",
      "+-----+---+-----+----+-----------+\n",
      "| Ravi| 28|    1|2002|          0|\n",
      "|Abdul| 23|    5|1981|          1|\n",
      "|Abdul| 23|    5|1981| 8589934592|\n",
      "| John| 12|   12|2006|17179869184|\n",
      "| Rosy|  7|    8|1963|17179869185|\n",
      "+-----+---+-----+----+-----------+\n",
      "\n"
     ]
    }
   ],
   "source": [
    "df3 = df1.withColumn(\"year\", expr(\n",
    "    \"\"\" case when year < 21 then cast(year as int) + 2000\n",
    "        when year < 100 then cast (year as int) + 1900 else year\n",
    "        end \"\"\"\n",
    "))\n",
    "df3.show()"
   ]
  },
  {
   "cell_type": "code",
   "execution_count": 20,
   "id": "82c7837e",
   "metadata": {},
   "outputs": [
    {
     "name": "stdout",
     "output_type": "stream",
     "text": [
      "+-----+---+-----+----+-----------+\n",
      "| name|day|month|year|         id|\n",
      "+-----+---+-----+----+-----------+\n",
      "| Ravi| 28|    1|2002|          0|\n",
      "|Abdul| 23|    5|1981|          1|\n",
      "|Abdul| 23|    5|1981| 8589934592|\n",
      "| John| 12|   12|2006|17179869184|\n",
      "| Rosy|  7|    8|1963|17179869185|\n",
      "+-----+---+-----+----+-----------+\n",
      "\n",
      "root\n",
      " |-- name: string (nullable = true)\n",
      " |-- day: string (nullable = true)\n",
      " |-- month: string (nullable = true)\n",
      " |-- year: integer (nullable = true)\n",
      " |-- id: long (nullable = false)\n",
      "\n"
     ]
    }
   ],
   "source": [
    "df4 = df1.withColumn(\"year\", expr(\n",
    "    \"\"\" case when year < 21 then year + 2000\n",
    "        when year < 100 then year + 1900 else year\n",
    "        end \"\"\").cast(IntegerType()))\n",
    "df4.show()\n",
    "df4.printSchema()"
   ]
  },
  {
   "cell_type": "code",
   "execution_count": 21,
   "id": "59f53a02",
   "metadata": {},
   "outputs": [
    {
     "name": "stdout",
     "output_type": "stream",
     "text": [
      "+-----+---+-----+----+-----------+\n",
      "| name|day|month|year|         id|\n",
      "+-----+---+-----+----+-----------+\n",
      "| Ravi| 28|    1|2002|          0|\n",
      "|Abdul| 23|    5|  81|          1|\n",
      "|Abdul| 23|    5|  81| 8589934592|\n",
      "| John| 12|   12|   6|17179869184|\n",
      "| Rosy|  7|    8|  63|17179869185|\n",
      "+-----+---+-----+----+-----------+\n",
      "\n",
      "root\n",
      " |-- name: string (nullable = true)\n",
      " |-- day: string (nullable = true)\n",
      " |-- month: string (nullable = true)\n",
      " |-- year: string (nullable = true)\n",
      " |-- id: long (nullable = false)\n",
      "\n"
     ]
    }
   ],
   "source": [
    "df1.show()\n",
    "df1.printSchema()"
   ]
  },
  {
   "cell_type": "code",
   "execution_count": 22,
   "id": "2f1ee2ab",
   "metadata": {},
   "outputs": [
    {
     "name": "stdout",
     "output_type": "stream",
     "text": [
      "+-----+---+-----+----+-----------+\n",
      "| name|day|month|year|         id|\n",
      "+-----+---+-----+----+-----------+\n",
      "| Ravi| 28|    1|2002|          0|\n",
      "|Abdul| 23|    5|1981|          1|\n",
      "|Abdul| 23|    5|1981| 8589934592|\n",
      "| John| 12|   12|2006|17179869184|\n",
      "| Rosy|  7|    8|1963|17179869185|\n",
      "+-----+---+-----+----+-----------+\n",
      "\n"
     ]
    }
   ],
   "source": [
    "from pyspark.sql.functions import col\n",
    "\n",
    "\n",
    "df5 = df1.withColumn(\"day\", col(\"day\").cast(IntegerType())) \\\n",
    "    .withColumn(\"month\", col(\"month\").cast(IntegerType())) \\\n",
    "    .withColumn(\"year\", col(\"year\").cast(IntegerType()))\n",
    "\n",
    "df6 = df5.withColumn(\"year\", expr(\n",
    "    \"\"\" case when year < 21 then year + 2000\n",
    "        when year < 100 then year + 1900 else year\n",
    "        end \"\"\"))\n",
    "\n",
    "df6.show()"
   ]
  },
  {
   "cell_type": "code",
   "execution_count": 23,
   "id": "962f988a",
   "metadata": {},
   "outputs": [
    {
     "name": "stdout",
     "output_type": "stream",
     "text": [
      "+-----+---+-----+----+-----------+\n",
      "| name|day|month|year|         id|\n",
      "+-----+---+-----+----+-----------+\n",
      "| Ravi| 28|    1|2002|          0|\n",
      "|Abdul| 23|    5|1981|          1|\n",
      "|Abdul| 23|    5|1981| 8589934592|\n",
      "| John| 12|   12|2006|17179869184|\n",
      "| Rosy|  7|    8|1963|17179869185|\n",
      "+-----+---+-----+----+-----------+\n",
      "\n"
     ]
    }
   ],
   "source": [
    "from pyspark.sql.functions import when\n",
    "\n",
    "\n",
    "df7 = df5.withColumn(\"year\", when(col(\"year\") < 21, col(\"year\") + 2000) \\\n",
    "                    .when(col(\"year\") < 100 , col(\"year\") + 1900) \\\n",
    "                    .otherwise(col(\"year\")))\n",
    "df7.show()\n"
   ]
  },
  {
   "cell_type": "code",
   "execution_count": 25,
   "id": "7fb5257f",
   "metadata": {},
   "outputs": [
    {
     "name": "stdout",
     "output_type": "stream",
     "text": [
      "+-----+---+-----+----+-----------+----------+\n",
      "| name|day|month|year|         id|       dob|\n",
      "+-----+---+-----+----+-----------+----------+\n",
      "| Ravi| 28|    1|2002|          0|2002-01-28|\n",
      "|Abdul| 23|    5|1981|          1|1981-05-23|\n",
      "|Abdul| 23|    5|1981| 8589934592|1981-05-23|\n",
      "| John| 12|   12|2006|17179869184|2006-12-12|\n",
      "| Rosy|  7|    8|1963|17179869185|1963-08-07|\n",
      "+-----+---+-----+----+-----------+----------+\n",
      "\n"
     ]
    }
   ],
   "source": [
    "df8 = df7.withColumn(\"dob\", expr(\"to_date(concat(day,'/', month, '/', year),'d/M/y')\"))\n",
    "df8.show()"
   ]
  },
  {
   "cell_type": "code",
   "execution_count": null,
   "id": "90914e28",
   "metadata": {},
   "outputs": [],
   "source": []
  },
  {
   "cell_type": "code",
   "execution_count": 27,
   "id": "9c60c673",
   "metadata": {},
   "outputs": [
    {
     "name": "stdout",
     "output_type": "stream",
     "text": [
      "+-----+---+-----+----+-----------+----------+\n",
      "| name|day|month|year|         id|       dob|\n",
      "+-----+---+-----+----+-----------+----------+\n",
      "| Ravi| 28|    1|2002|          0|2002-01-28|\n",
      "|Abdul| 23|    5|1981|          1|1981-05-23|\n",
      "|Abdul| 23|    5|1981| 8589934592|1981-05-23|\n",
      "| John| 12|   12|2006|17179869184|2006-12-12|\n",
      "| Rosy|  7|    8|1963|17179869185|1963-08-07|\n",
      "+-----+---+-----+----+-----------+----------+\n",
      "\n"
     ]
    }
   ],
   "source": [
    "from pyspark.sql.functions import to_date\n",
    "\n",
    "\n",
    "df9 = df7.withColumn(\"dob\", to_date(expr(\"concat(day,'/', month, '/', year)\"),'d/M/y'))\n",
    "df9.show()"
   ]
  },
  {
   "cell_type": "code",
   "execution_count": 28,
   "id": "a1fec1d3",
   "metadata": {},
   "outputs": [
    {
     "name": "stdout",
     "output_type": "stream",
     "text": [
      "+-----+-----------+----------+\n",
      "| name|         id|       dob|\n",
      "+-----+-----------+----------+\n",
      "| Ravi|          0|2002-01-28|\n",
      "|Abdul|          1|1981-05-23|\n",
      "|Abdul| 8589934592|1981-05-23|\n",
      "| John|17179869184|2006-12-12|\n",
      "| Rosy|17179869185|1963-08-07|\n",
      "+-----+-----------+----------+\n",
      "\n"
     ]
    }
   ],
   "source": [
    "\n",
    "\n",
    "df10 = df7.withColumn(\"dob\", to_date(expr(\"concat(day,'/', month, '/', year)\"),'d/M/y')) \\\n",
    "    .drop(\"day\",\"month\",\"year\")\n",
    "df10.show()"
   ]
  },
  {
   "cell_type": "code",
   "execution_count": 31,
   "id": "6b675650",
   "metadata": {},
   "outputs": [
    {
     "name": "stdout",
     "output_type": "stream",
     "text": [
      "+-----+-----------+----------+\n",
      "| name|         id|       dob|\n",
      "+-----+-----------+----------+\n",
      "| Ravi|          0|2002-01-28|\n",
      "|Abdul|          1|1981-05-23|\n",
      "| Rosy|17179869185|1963-08-07|\n",
      "| John|17179869184|2006-12-12|\n",
      "+-----+-----------+----------+\n",
      "\n"
     ]
    }
   ],
   "source": [
    "df11 = df7.withColumn(\"dob\", to_date(expr(\"concat(day,'/', month, '/', year)\"),'d/M/y')) \\\n",
    "    .drop(\"day\",\"month\",\"year\") \\\n",
    "    .dropDuplicates([\"name\", \"dob\"])\n",
    "df11.show()"
   ]
  },
  {
   "cell_type": "code",
   "execution_count": 32,
   "id": "2efd739f",
   "metadata": {},
   "outputs": [
    {
     "name": "stdout",
     "output_type": "stream",
     "text": [
      "+-----+-----------+----------+\n",
      "| name|         id|       dob|\n",
      "+-----+-----------+----------+\n",
      "| Rosy|17179869185|1963-08-07|\n",
      "|Abdul|          1|1981-05-23|\n",
      "| Ravi|          0|2002-01-28|\n",
      "| John|17179869184|2006-12-12|\n",
      "+-----+-----------+----------+\n",
      "\n"
     ]
    }
   ],
   "source": [
    "df12 = df7.withColumn(\"dob\", to_date(expr(\"concat(day,'/', month, '/', year)\"),'d/M/y')) \\\n",
    "    .drop(\"day\",\"month\",\"year\") \\\n",
    "    .dropDuplicates([\"name\", \"dob\"]) \\\n",
    "    .sort(expr(\"dob desc\"))\n",
    "df12.show()"
   ]
  },
  {
   "cell_type": "code",
   "execution_count": null,
   "id": "e6e2c4e8",
   "metadata": {},
   "outputs": [],
   "source": []
  }
 ],
 "metadata": {
  "kernelspec": {
   "display_name": "Python 3",
   "language": "python",
   "name": "python3"
  },
  "language_info": {
   "codemirror_mode": {
    "name": "ipython",
    "version": 3
   },
   "file_extension": ".py",
   "mimetype": "text/x-python",
   "name": "python",
   "nbconvert_exporter": "python",
   "pygments_lexer": "ipython3",
   "version": "3.9.13"
  }
 },
 "nbformat": 4,
 "nbformat_minor": 5
}
